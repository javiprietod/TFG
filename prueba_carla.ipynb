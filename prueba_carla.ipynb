{
 "cells": [
  {
   "cell_type": "code",
   "execution_count": null,
   "id": "2d6080a1",
   "metadata": {},
   "outputs": [],
   "source": [
    "from carla import OnlineCatalog, MLModelCatalog\n",
    "from carla.recourse_methods import Watcher\n"
   ]
  },
  {
   "cell_type": "code",
   "execution_count": null,
   "id": "aa193f78",
   "metadata": {},
   "outputs": [],
   "source": [
    "\n",
    "# load a catalog dataset\n",
    "data_name = \"Give Me Some Credit\"\n",
    "dataset = OnlineCatalog(data_name)\n"
   ]
  },
  {
   "cell_type": "code",
   "execution_count": null,
   "id": "498b6e22",
   "metadata": {},
   "outputs": [],
   "source": [
    "\n",
    "# load artificial neural network from catalog\n",
    "model = MLModelCatalog(dataset, \"ann\")\n",
    "\n",
    "# get factuals from the data to generate counterfactual examples\n",
    "factuals = dataset.raw.iloc[:10]\n",
    "\n",
    "# load a recourse model and pass black box model\n",
    "gs = Watcher(model)\n",
    "\n",
    "# generate counterfactual examples\n",
    "counterfactuals = gs.get_counterfactuals(factuals)"
   ]
  }
 ],
 "metadata": {
  "kernelspec": {
   "display_name": ".venv",
   "language": "python",
   "name": "python3"
  },
  "language_info": {
   "codemirror_mode": {
    "name": "ipython",
    "version": 3
   },
   "file_extension": ".py",
   "mimetype": "text/x-python",
   "name": "python",
   "nbconvert_exporter": "python",
   "pygments_lexer": "ipython3",
   "version": "3.7.0"
  }
 },
 "nbformat": 4,
 "nbformat_minor": 5
}
