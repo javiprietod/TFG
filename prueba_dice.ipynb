{
 "cells": [
  {
   "cell_type": "code",
   "execution_count": 3,
   "id": "5df1dd15",
   "metadata": {},
   "outputs": [],
   "source": [
    "import dice_ml\n",
    "from dice_ml.utils import helpers # helper functions\n",
    "from sklearn.model_selection import train_test_split\n",
    "\n",
    "dataset = helpers.load_adult_income_dataset()\n",
    "target = dataset[\"income\"] # outcome variable\n",
    "train_dataset, test_dataset, _, _ = train_test_split(dataset,\n",
    "                                                     target,\n",
    "                                                     test_size=0.2,\n",
    "                                                     random_state=0,\n",
    "                                                     stratify=target)\n",
    "# Dataset for training an ML model\n",
    "d = dice_ml.Data(dataframe=train_dataset,\n",
    "                 continuous_features=['age', 'hours_per_week'],\n",
    "                 outcome_name='income')\n",
    "\n",
    "# Pre-trained ML model\n",
    "m = dice_ml.Model(model_path=dice_ml.utils.helpers.get_adult_income_modelpath(),\n",
    "                  backend='TF1', func=\"ohe-min-max\")\n",
    "# DiCE explanation instance\n",
    "exp = dice_ml.Dice(d,m)"
   ]
  },
  {
   "cell_type": "code",
   "execution_count": null,
   "id": "9ba2aa14",
   "metadata": {},
   "outputs": [
    {
     "data": {
      "text/plain": [
       "<tf.Tensor: shape=(1, 1), dtype=float32, numpy=array([[0.7662482]], dtype=float32)>"
      ]
     },
     "execution_count": 41,
     "metadata": {},
     "output_type": "execute_result"
    }
   ],
   "source": [
    "# m.model(test_dataset.drop(columns=\"income\")[0])\n",
    "m.get_output(test_dataset.drop(columns=\"income\")[0:1])\n",
    "m.get_output([29, 'Government', 'Doctorate', 'Married', 'Blue-Collar', 'White', 'Female', 38])\n",
    "# get_output(test_dataset.drop(columns=\"income\")[0:1])"
   ]
  },
  {
   "cell_type": "code",
   "execution_count": 40,
   "id": "bbff60bf",
   "metadata": {},
   "outputs": [
    {
     "name": "stderr",
     "output_type": "stream",
     "text": [
      "100%|██████████| 1/1 [00:00<00:00,  2.54it/s]"
     ]
    },
    {
     "name": "stdout",
     "output_type": "stream",
     "text": [
      "Query instance (original outcome : 0)\n",
      "[29, 'Private', 'HS-grad', 'Married', 'Blue-Collar', 'White', 'Female', 38, 0]\n",
      "\n",
      "Diverse Counterfactual set (new outcome: 1)\n",
      "[29, 'Government', 'Doctorate', 'Married', 'Blue-Collar', 'White', 'Female', 38, 1]\n"
     ]
    },
    {
     "name": "stderr",
     "output_type": "stream",
     "text": [
      "\n"
     ]
    }
   ],
   "source": [
    "# Generate counterfactual examples\n",
    "query_instance = test_dataset.drop(columns=\"income\")[0:1]\n",
    "dice_exp = exp.generate_counterfactuals(query_instance, total_CFs=1, diversity_weight=0, sparsity_weight=0, desired_class=\"opposite\")\n",
    "# Visualize counterfactual explanation\n",
    "dice_exp.cf_examples_list[0].visualize_as_list()"
   ]
  },
  {
   "cell_type": "code",
   "execution_count": 7,
   "id": "3b78e7a6",
   "metadata": {},
   "outputs": [],
   "source": [
    "train_dataset.to_csv(\"adult_income_train.csv\", index=False)"
   ]
  }
 ],
 "metadata": {
  "kernelspec": {
   "display_name": "Python 3",
   "language": "python",
   "name": "python3"
  },
  "language_info": {
   "codemirror_mode": {
    "name": "ipython",
    "version": 3
   },
   "file_extension": ".py",
   "mimetype": "text/x-python",
   "name": "python",
   "nbconvert_exporter": "python",
   "pygments_lexer": "ipython3",
   "version": "3.11.0"
  }
 },
 "nbformat": 4,
 "nbformat_minor": 5
}
